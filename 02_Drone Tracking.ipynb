{
  "nbformat": 4,
  "nbformat_minor": 0,
  "metadata": {
    "colab": {
      "provenance": [],
      "toc_visible": true,
      "authorship_tag": "ABX9TyODaXzC5hbay9/hbuWh67Y+",
      "include_colab_link": true
    },
    "kernelspec": {
      "name": "python3",
      "display_name": "Python 3"
    },
    "language_info": {
      "name": "python"
    }
  },
  "cells": [
    {
      "cell_type": "markdown",
      "metadata": {
        "id": "view-in-github",
        "colab_type": "text"
      },
      "source": [
        "<a href=\"https://colab.research.google.com/github/WenjunYuAnny/Artificial_Intelligence_Assignment/blob/main/Assignment_3_Part_2/Assignment3_Part2.ipynb\" target=\"_parent\"><img src=\"https://colab.research.google.com/assets/colab-badge.svg\" alt=\"Open In Colab\"/></a>"
      ]
    },
    {
      "cell_type": "code",
      "execution_count": null,
      "metadata": {
        "colab": {
          "base_uri": "https://localhost:8080/"
        },
        "id": "8mUR1TTB00XM",
        "outputId": "d6a6e05d-6928-4fe6-b2e3-1120d0072b36"
      },
      "outputs": [
        {
          "output_type": "stream",
          "name": "stdout",
          "text": [
            "Mounted at /content/gdrive\n"
          ]
        }
      ],
      "source": [
        "from google.colab import drive\n",
        "drive.mount('/content/gdrive')"
      ]
    },
    {
      "cell_type": "code",
      "source": [
        "!pip install filterpy"
      ],
      "metadata": {
        "colab": {
          "base_uri": "https://localhost:8080/"
        },
        "id": "dL1Yol7Y2x0p",
        "outputId": "4e2f6a50-fe01-4e28-f82a-d31f2ced11a4"
      },
      "execution_count": null,
      "outputs": [
        {
          "output_type": "stream",
          "name": "stdout",
          "text": [
            "Collecting filterpy\n",
            "  Downloading filterpy-1.4.5.zip (177 kB)\n",
            "\u001b[?25l     \u001b[90m━━━━━━━━━━━━━━━━━━━━━━━━━━━━━━━━━━━━━━━━\u001b[0m \u001b[32m0.0/178.0 kB\u001b[0m \u001b[31m?\u001b[0m eta \u001b[36m-:--:--\u001b[0m\r\u001b[2K     \u001b[91m━━━━━━━━━━━━━━━━━━━━━━━━━━━━━━━━━━━━\u001b[0m\u001b[91m╸\u001b[0m\u001b[90m━━━\u001b[0m \u001b[32m163.8/178.0 kB\u001b[0m \u001b[31m5.0 MB/s\u001b[0m eta \u001b[36m0:00:01\u001b[0m\r\u001b[2K     \u001b[90m━━━━━━━━━━━━━━━━━━━━━━━━━━━━━━━━━━━━━━━━\u001b[0m \u001b[32m178.0/178.0 kB\u001b[0m \u001b[31m4.2 MB/s\u001b[0m eta \u001b[36m0:00:00\u001b[0m\n",
            "\u001b[?25h  Preparing metadata (setup.py) ... \u001b[?25l\u001b[?25hdone\n",
            "Requirement already satisfied: numpy in /usr/local/lib/python3.10/dist-packages (from filterpy) (1.23.5)\n",
            "Requirement already satisfied: scipy in /usr/local/lib/python3.10/dist-packages (from filterpy) (1.11.3)\n",
            "Requirement already satisfied: matplotlib in /usr/local/lib/python3.10/dist-packages (from filterpy) (3.7.1)\n",
            "Requirement already satisfied: contourpy>=1.0.1 in /usr/local/lib/python3.10/dist-packages (from matplotlib->filterpy) (1.2.0)\n",
            "Requirement already satisfied: cycler>=0.10 in /usr/local/lib/python3.10/dist-packages (from matplotlib->filterpy) (0.12.1)\n",
            "Requirement already satisfied: fonttools>=4.22.0 in /usr/local/lib/python3.10/dist-packages (from matplotlib->filterpy) (4.44.3)\n",
            "Requirement already satisfied: kiwisolver>=1.0.1 in /usr/local/lib/python3.10/dist-packages (from matplotlib->filterpy) (1.4.5)\n",
            "Requirement already satisfied: packaging>=20.0 in /usr/local/lib/python3.10/dist-packages (from matplotlib->filterpy) (23.2)\n",
            "Requirement already satisfied: pillow>=6.2.0 in /usr/local/lib/python3.10/dist-packages (from matplotlib->filterpy) (9.4.0)\n",
            "Requirement already satisfied: pyparsing>=2.3.1 in /usr/local/lib/python3.10/dist-packages (from matplotlib->filterpy) (3.1.1)\n",
            "Requirement already satisfied: python-dateutil>=2.7 in /usr/local/lib/python3.10/dist-packages (from matplotlib->filterpy) (2.8.2)\n",
            "Requirement already satisfied: six>=1.5 in /usr/local/lib/python3.10/dist-packages (from python-dateutil>=2.7->matplotlib->filterpy) (1.16.0)\n",
            "Building wheels for collected packages: filterpy\n",
            "  Building wheel for filterpy (setup.py) ... \u001b[?25l\u001b[?25hdone\n",
            "  Created wheel for filterpy: filename=filterpy-1.4.5-py3-none-any.whl size=110458 sha256=c862f68e419cd32069085039b74b33d9443971bf1b1796e69b8e21a373acbfbe\n",
            "  Stored in directory: /root/.cache/pip/wheels/0f/0c/ea/218f266af4ad626897562199fbbcba521b8497303200186102\n",
            "Successfully built filterpy\n",
            "Installing collected packages: filterpy\n",
            "Successfully installed filterpy-1.4.5\n"
          ]
        }
      ]
    },
    {
      "cell_type": "code",
      "source": [
        "import cv2\n",
        "import pandas as pd\n",
        "from filterpy.kalman import KalmanFilter\n",
        "import numpy as np\n",
        "import os"
      ],
      "metadata": {
        "id": "BmQtrhsV06yQ"
      },
      "execution_count": null,
      "outputs": []
    },
    {
      "cell_type": "markdown",
      "source": [
        "## Retrive meaturement from the csv file from Task 1\n",
        "The threshold is set to 0.35 (to have more measurements included)"
      ],
      "metadata": {
        "id": "MUiHEyl2DMTc"
      }
    },
    {
      "cell_type": "code",
      "source": [
        "#retrieve center measurement from the csv\n",
        "def detect_object(bbox):\n",
        "    if not bbox.empty:\n",
        "        detected_center = np.array([\n",
        "            (bbox['x1'].iloc[0] + bbox['x2'].iloc[0])/2,\n",
        "            (bbox['y1'].iloc[0] + bbox['y2'].iloc[0])/2,\n",
        "        ])\n",
        "        drone_detected = True\n",
        "    else:\n",
        "        detected_center = np.array([])\n",
        "        drone_detected = False\n",
        "    return detected_center, drone_detected"
      ],
      "metadata": {
        "id": "CbkvrO9b1FTD"
      },
      "execution_count": null,
      "outputs": []
    },
    {
      "cell_type": "markdown",
      "source": [
        "##Initialize the Karman Filter"
      ],
      "metadata": {
        "id": "wOlFLk4zDWJf"
      }
    },
    {
      "cell_type": "code",
      "source": [
        "def init_kalman_filter(video_fps, init_location, init_est_error, process_noise, measurement_noise):\n",
        "    dt = 1.0 / video_fps\n",
        "    kf = KalmanFilter(dim_x=4, dim_z=2) #state: x, y, vx, vy; measurement: x, y\n",
        "    #state transition matrix\n",
        "    kf.F = np.array([\n",
        "        [1,0,dt,0],\n",
        "        [0,1,0,dt],\n",
        "        [0,0,1,0],\n",
        "        [0,0,0,1]\n",
        "    ])\n",
        "    #measurement matrix\n",
        "    kf.H = np.array([\n",
        "        [1,0,0,0],\n",
        "        [0,1,0,0]\n",
        "    ])\n",
        "    #initial state\n",
        "    kf.x = np.array([init_location[0], init_location[1], 0, 0])\n",
        "    kf.P *= init_est_error\n",
        "    kf.Q = np.eye(4) * process_noise\n",
        "    kf.R = np.eye(2) * measurement_noise\n",
        "    return kf"
      ],
      "metadata": {
        "id": "_0y3RWwi1HV1"
      },
      "execution_count": null,
      "outputs": []
    },
    {
      "cell_type": "markdown",
      "source": [
        "##Processing single video to output trajectories"
      ],
      "metadata": {
        "id": "HgZih_Q5DjZ3"
      }
    },
    {
      "cell_type": "code",
      "source": [
        "def tracking_drone_in_video(video_path, csv_path, output_dir):\n",
        "    #parameter initialization\n",
        "    init_est_error = 1\n",
        "    process_noise = 0.01\n",
        "    measurement_noise = 2\n",
        "\n",
        "    #read the video and the csv file of bounding boxes\n",
        "    video_reader = cv2.VideoCapture(video_path)\n",
        "    bboxes = pd.read_csv(csv_path)\n",
        "    print(os.path.basename(video_path) + \" is being processed\")\n",
        "\n",
        "    is_track_initialized = False\n",
        "    max_frames_without_detection = 60 #tolerate 2s of no detection before reinitialization\n",
        "    frames_without_detection = 0\n",
        "    clip_counter = 0\n",
        "\n",
        "    video_width = int(video_reader.get(cv2.CAP_PROP_FRAME_WIDTH))\n",
        "    video_height = int(video_reader.get(cv2.CAP_PROP_FRAME_HEIGHT))\n",
        "    video_fps = video_reader.get(cv2.CAP_PROP_FPS)\n",
        "\n",
        "    fourcc = cv2.VideoWriter_fourcc(*'XVID')\n",
        "    video_writer = None\n",
        "\n",
        "    while video_reader.isOpened():\n",
        "        ret, frame = video_reader.read()\n",
        "        if not ret:\n",
        "            break\n",
        "\n",
        "        frame_number = int(video_reader.get(cv2.CAP_PROP_POS_FRAMES))\n",
        "        bbox = bboxes[bboxes['frame'] == frame_number]\n",
        "\n",
        "        detected_center, drone_detected = detect_object(bbox)\n",
        "        if not bbox.empty:#drones detected\n",
        "            frames_without_detection = 0\n",
        "            if not is_track_initialized:\n",
        "                kf = init_kalman_filter(video_fps, detected_center, init_est_error, process_noise, measurement_noise)\n",
        "                is_track_initialized = True\n",
        "                kf.update(detected_center)\n",
        "                tracked_center = kf.x\n",
        "                trajectory = [tracked_center] #start a new trajectory when the tracking is initialized\n",
        "\n",
        "            else:\n",
        "                kf.predict()\n",
        "                kf.update(detected_center)\n",
        "                tracked_center = kf.x\n",
        "                trajectory.append(tracked_center)\n",
        "\n",
        "        else:#no detection\n",
        "            frames_without_detection += 1\n",
        "            if frames_without_detection > max_frames_without_detection:\n",
        "                is_track_initialized = False\n",
        "            else:\n",
        "                if is_track_initialized:\n",
        "                    kf.predict() #only predict, no update\n",
        "                    tracked_center = kf.x\n",
        "                    trajectory.append(tracked_center)\n",
        "\n",
        "        label = 'Drone detected' if drone_detected else 'Drone NOT detected'\n",
        "        if drone_detected:\n",
        "            #plot the bounding box from the detection\n",
        "            frame = cv2.rectangle(\n",
        "                frame,\n",
        "                (int(bbox['x1'].iloc[0]), int(bbox['y1'].iloc[0])),\n",
        "                (int(bbox['x2'].iloc[0]), int(bbox['y2'].iloc[0])),\n",
        "                color=(0,255,0),\n",
        "                thickness=2\n",
        "            )\n",
        "\n",
        "        if video_writer is None and is_track_initialized: #when tracking is initialized, a video clip starts\n",
        "            clip_counter += 1\n",
        "            video_filename = os.path.splitext(os.path.basename(video_path))[0] + f\"_tracked_{clip_counter}.mp4\"\n",
        "            output_path = os.path.join(output_dir, video_filename)\n",
        "            video_writer = cv2.VideoWriter(output_path, fourcc, video_fps, (video_width, video_height))\n",
        "\n",
        "        if not is_track_initialized and video_writer is not None: #when the drone cannot be detected for too long, stop the video clip\n",
        "            video_writer.release()\n",
        "            video_writer = None\n",
        "\n",
        "        if is_track_initialized:#plot all the centers estimated in the trajectory\n",
        "            for location in trajectory:\n",
        "                center = (int(location[0]), int(location[1]))\n",
        "                cv2.circle(frame, center, radius=3, color=(0,255,255), thickness=1)\n",
        "\n",
        "        if is_track_initialized and len(trajectory) > 1:#plot the lines in the trajectory\n",
        "            for i in range(1, len(trajectory)):\n",
        "                cv2.line(frame, (int(trajectory[i-1][0]), int(trajectory[i-1][1])),\n",
        "                        (int(trajectory[i][0]), int(trajectory[i][1])), (0,0,255), thickness=1)\n",
        "\n",
        "        frame = cv2.putText(frame, label, (10,30), cv2.FONT_HERSHEY_SIMPLEX, 1, (0, 255, 0), 2, cv2.LINE_AA)\n",
        "        if video_writer is not None:\n",
        "            video_writer.write(frame)\n",
        "\n",
        "    if video_writer is not None:\n",
        "        video_writer.release()\n",
        "    video_reader.release()\n",
        "    print(os.path.basename(video_path) + \"tracking process is done\")"
      ],
      "metadata": {
        "id": "e0Xzmnts1Jz0"
      },
      "execution_count": null,
      "outputs": []
    },
    {
      "cell_type": "code",
      "source": [
        "video_dir = \"/content/gdrive/MyDrive/2023 Fall Artificial Intelligence/Drone_detection/video\"\n",
        "csv_dir = \"/content/gdrive/MyDrive/2023 Fall Artificial Intelligence/Drone_detection/bbox\"\n",
        "output_dir = \"/content/gdrive/MyDrive/2023 Fall Artificial Intelligence/Drone_detection/video_tracking\""
      ],
      "metadata": {
        "id": "JF290EgU19c7"
      },
      "execution_count": null,
      "outputs": []
    },
    {
      "cell_type": "markdown",
      "source": [
        "#Processing video directory"
      ],
      "metadata": {
        "id": "oS9iut5RC_2f"
      }
    },
    {
      "cell_type": "code",
      "source": [
        "for filename in os.listdir(video_dir):\n",
        "  if filename.endswith('.mp4'):\n",
        "    video_path = os.path.join(video_dir, filename)\n",
        "    csv_path = os.path.join(csv_dir, os.path.splitext(filename)[0] + \".csv\")\n",
        "    tracking_drone_in_video(video_path, csv_path, output_dir)"
      ],
      "metadata": {
        "colab": {
          "base_uri": "https://localhost:8080/"
        },
        "id": "9-OdQlmu2BSn",
        "outputId": "95c56686-2776-4480-e579-6ac4802afe8a"
      },
      "execution_count": null,
      "outputs": [
        {
          "output_type": "stream",
          "name": "stdout",
          "text": [
            "Drone Tracking 1.mp4 is being processed\n",
            "Drone Tracking 1.mp4tracking process is done\n",
            "Drone tracking 2.mp4 is being processed\n",
            "Drone tracking 2.mp4tracking process is done\n"
          ]
        }
      ]
    }
  ]
}